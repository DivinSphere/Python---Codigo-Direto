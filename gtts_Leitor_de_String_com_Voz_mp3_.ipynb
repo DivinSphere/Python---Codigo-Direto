{
  "nbformat": 4,
  "nbformat_minor": 0,
  "metadata": {
    "colab": {
      "provenance": [],
      "authorship_tag": "ABX9TyNbA2H/gAV9731Wex+H6FRd"
    },
    "kernelspec": {
      "name": "python3",
      "display_name": "Python 3"
    },
    "language_info": {
      "name": "python"
    }
  },
  "cells": [
    {
      "cell_type": "code",
      "source": [
        "# Instala o módulo caso não exista\n",
        "!pip install gtts"
      ],
      "metadata": {
        "id": "_OJuIJ33BAfZ"
      },
      "execution_count": null,
      "outputs": []
    },
    {
      "cell_type": "code",
      "execution_count": null,
      "metadata": {
        "id": "PMwqPfyhveJu",
        "colab": {
          "base_uri": "https://localhost:8080/"
        },
        "outputId": "7e129271-8ff0-4f2b-a4de-6d444b2cfc9e"
      },
      "outputs": [
        {
          "name": "stdout",
          "output_type": "stream",
          "text": [
            "Digite o texto a ser lido em voz alta: aa\n"
          ]
        }
      ],
      "source": [
        "# Importar o módulo gTTS e o módulo os\n",
        "from gtts import gTTS\n",
        "import os\n",
        "\n",
        "# Definição da função read_aloud que leva um argumento text\n",
        "def read_aloud(text):\n",
        "    # Criar uma instância de gTTS, passando o texto e o idioma como argumentos\n",
        "    tts = gTTS(text=text, lang='pt')\n",
        "    \n",
        "    # Salvar a saída como um arquivo MP3\n",
        "    tts.save(\"speech.mp3\")\n",
        "    \n",
        "    # Reproduzir o arquivo MP3 usando o comando mpg321\n",
        "    os.system(\"mpg321 speech.mp3\")\n",
        "\n",
        "# Receber o texto a ser lido em voz alta do usuário\n",
        "text = input(\"Digite o texto a ser lido em voz alta: \")\n",
        "\n",
        "# Chamar a função read_aloud com o texto recebido como argumento\n",
        "read_aloud(text)"
      ]
    }
  ]
}
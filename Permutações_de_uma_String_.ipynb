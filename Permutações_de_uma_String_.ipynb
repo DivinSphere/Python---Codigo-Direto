{
  "nbformat": 4,
  "nbformat_minor": 0,
  "metadata": {
    "colab": {
      "provenance": [],
      "authorship_tag": "ABX9TyOAKUDyfLq300S9on8Lv5Hn"
    },
    "kernelspec": {
      "name": "python3",
      "display_name": "Python 3"
    },
    "language_info": {
      "name": "python"
    }
  },
  "cells": [
    {
      "cell_type": "code",
      "execution_count": 10,
      "metadata": {
        "id": "PMwqPfyhveJu",
        "colab": {
          "base_uri": "https://localhost:8080/"
        },
        "outputId": "28c90e21-d8b3-43dd-c8a6-5c6c8af08b08"
      },
      "outputs": [
        {
          "name": "stdout",
          "output_type": "stream",
          "text": [
            "Test\n"
          ]
        },
        {
          "output_type": "execute_result",
          "data": {
            "text/plain": [
              "['Test',\n",
              " 'Tets',\n",
              " 'Tset',\n",
              " 'Tste',\n",
              " 'Ttse',\n",
              " 'Ttes',\n",
              " 'eTst',\n",
              " 'eTts',\n",
              " 'esTt',\n",
              " 'estT',\n",
              " 'etsT',\n",
              " 'etTs',\n",
              " 'seTt',\n",
              " 'setT',\n",
              " 'sTet',\n",
              " 'sTte',\n",
              " 'stTe',\n",
              " 'steT',\n",
              " 'tesT',\n",
              " 'teTs',\n",
              " 'tseT',\n",
              " 'tsTe',\n",
              " 'tTse',\n",
              " 'tTes']"
            ]
          },
          "metadata": {},
          "execution_count": 10
        }
      ],
      "source": [
        "def permutacoes(string):\n",
        "    # Converte a string em uma lista de caracteres\n",
        "    dados = list(string)\n",
        "    tamanho = len(dados)\n",
        "    resultados = []\n",
        "    \n",
        "    # Função auxiliar para gerar todas as permutações possíveis\n",
        "    def backtrack(start=0):\n",
        "        # Verifica se todos os caracteres foram percorridos\n",
        "        if start == tamanho:\n",
        "            # Adiciona a permutação atual à lista de resultados\n",
        "            resultados.append(''.join(dados))\n",
        "        else:\n",
        "            # Percorre todos os caracteres da string a partir do caractere atual\n",
        "            for i in range(start, tamanho):\n",
        "                # Troca o caractere atual com o próximo\n",
        "                dados[start], dados[i] = dados[i], dados[start]\n",
        "                # Chama a função recursivamente para o próximo caractere\n",
        "                backtrack(start + 1)\n",
        "                # Troca o caractere de volta para o original\n",
        "                dados[start], dados[i] = dados[i], dados[start]\n",
        "    \n",
        "    # Chama a função auxiliar\n",
        "    backtrack()\n",
        "    # Retorna a lista de todas as permutações geradas\n",
        "    return resultados\n",
        "  \n",
        "txt=input()\n",
        "permutacoes(txt)"
      ]
    }
  ]
}
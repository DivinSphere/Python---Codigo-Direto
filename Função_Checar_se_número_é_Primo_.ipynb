{
  "nbformat": 4,
  "nbformat_minor": 0,
  "metadata": {
    "colab": {
      "provenance": [],
      "authorship_tag": "ABX9TyPqnP3W5Fn3zUzJ7Fn8Xl3j"
    },
    "kernelspec": {
      "name": "python3",
      "display_name": "Python 3"
    },
    "language_info": {
      "name": "python"
    }
  },
  "cells": [
    {
      "cell_type": "code",
      "execution_count": 8,
      "metadata": {
        "id": "PMwqPfyhveJu",
        "colab": {
          "base_uri": "https://localhost:8080/"
        },
        "outputId": "250bd493-7fc4-4e2b-962a-1f4a999194ce"
      },
      "outputs": [
        {
          "output_type": "stream",
          "name": "stdout",
          "text": [
            "Digite um número: 113\n",
            "113 é primo\n"
          ]
        }
      ],
      "source": [
        "# Função para verificar se um número é primo\n",
        "def is_prime(number):\n",
        "    # Se o número for menor ou igual a 1, não é primo\n",
        "    if number <= 1:\n",
        "        return False\n",
        "\n",
        "    # Verificar se o número é divisível por qualquer outro número entre 2 e a raiz quadrada do número\n",
        "    for i in range(2, int(number**0.5) + 1):\n",
        "        # Se o número for divisível por i, não é primo\n",
        "        if number % i == 0:\n",
        "            return False\n",
        "\n",
        "    # Se o número não for divisível por nenhum outro número, é primo\n",
        "    return True\n",
        "\n",
        "# Receber o número a ser verificado\n",
        "number = int(input(\"Digite um número: \"))\n",
        "\n",
        "# Verificar se o número é primo e imprimir o resultado\n",
        "if is_prime(number):\n",
        "    print(f\"{number} é primo\")\n",
        "else:\n",
        "    print(f\"{number} não é primo\")\n"
      ]
    }
  ]
}